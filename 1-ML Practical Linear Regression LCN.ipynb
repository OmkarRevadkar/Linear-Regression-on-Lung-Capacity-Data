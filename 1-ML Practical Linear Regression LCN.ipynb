{
 "cells": [
  {
   "cell_type": "code",
   "execution_count": 1,
   "id": "0b3e15ce",
   "metadata": {},
   "outputs": [],
   "source": [
    "import pandas as pd\n",
    "import numpy as np"
   ]
  },
  {
   "cell_type": "code",
   "execution_count": 2,
   "id": "1dabdf6b",
   "metadata": {},
   "outputs": [],
   "source": [
    "lcn = pd.read_csv('LungCapData.csv')"
   ]
  },
  {
   "cell_type": "code",
   "execution_count": 3,
   "id": "92f57b0a",
   "metadata": {},
   "outputs": [
    {
     "data": {
      "text/html": [
       "<div>\n",
       "<style scoped>\n",
       "    .dataframe tbody tr th:only-of-type {\n",
       "        vertical-align: middle;\n",
       "    }\n",
       "\n",
       "    .dataframe tbody tr th {\n",
       "        vertical-align: top;\n",
       "    }\n",
       "\n",
       "    .dataframe thead th {\n",
       "        text-align: right;\n",
       "    }\n",
       "</style>\n",
       "<table border=\"1\" class=\"dataframe\">\n",
       "  <thead>\n",
       "    <tr style=\"text-align: right;\">\n",
       "      <th></th>\n",
       "      <th>LungCap</th>\n",
       "      <th>Age</th>\n",
       "      <th>Height</th>\n",
       "      <th>Smoke</th>\n",
       "      <th>Gender</th>\n",
       "      <th>Caesarean</th>\n",
       "    </tr>\n",
       "  </thead>\n",
       "  <tbody>\n",
       "    <tr>\n",
       "      <th>0</th>\n",
       "      <td>6.475</td>\n",
       "      <td>6</td>\n",
       "      <td>62.1</td>\n",
       "      <td>no</td>\n",
       "      <td>male</td>\n",
       "      <td>no</td>\n",
       "    </tr>\n",
       "    <tr>\n",
       "      <th>1</th>\n",
       "      <td>10.125</td>\n",
       "      <td>18</td>\n",
       "      <td>74.7</td>\n",
       "      <td>yes</td>\n",
       "      <td>female</td>\n",
       "      <td>no</td>\n",
       "    </tr>\n",
       "    <tr>\n",
       "      <th>2</th>\n",
       "      <td>9.550</td>\n",
       "      <td>16</td>\n",
       "      <td>69.7</td>\n",
       "      <td>no</td>\n",
       "      <td>female</td>\n",
       "      <td>yes</td>\n",
       "    </tr>\n",
       "    <tr>\n",
       "      <th>3</th>\n",
       "      <td>11.125</td>\n",
       "      <td>14</td>\n",
       "      <td>71.0</td>\n",
       "      <td>no</td>\n",
       "      <td>male</td>\n",
       "      <td>no</td>\n",
       "    </tr>\n",
       "    <tr>\n",
       "      <th>4</th>\n",
       "      <td>4.800</td>\n",
       "      <td>5</td>\n",
       "      <td>56.9</td>\n",
       "      <td>no</td>\n",
       "      <td>male</td>\n",
       "      <td>no</td>\n",
       "    </tr>\n",
       "  </tbody>\n",
       "</table>\n",
       "</div>"
      ],
      "text/plain": [
       "   LungCap  Age  Height Smoke  Gender Caesarean\n",
       "0    6.475    6    62.1    no    male        no\n",
       "1   10.125   18    74.7   yes  female        no\n",
       "2    9.550   16    69.7    no  female       yes\n",
       "3   11.125   14    71.0    no    male        no\n",
       "4    4.800    5    56.9    no    male        no"
      ]
     },
     "execution_count": 3,
     "metadata": {},
     "output_type": "execute_result"
    }
   ],
   "source": [
    "lcn.head(5)"
   ]
  },
  {
   "cell_type": "code",
   "execution_count": 4,
   "id": "2fedfc22",
   "metadata": {},
   "outputs": [
    {
     "data": {
      "text/plain": [
       "(725, 6)"
      ]
     },
     "execution_count": 4,
     "metadata": {},
     "output_type": "execute_result"
    }
   ],
   "source": [
    "lcn.shape"
   ]
  },
  {
   "cell_type": "code",
   "execution_count": 5,
   "id": "369ec2c5",
   "metadata": {},
   "outputs": [],
   "source": [
    "# Data pre-processing/ data cleaning"
   ]
  },
  {
   "cell_type": "code",
   "execution_count": 6,
   "id": "a479f7e4",
   "metadata": {},
   "outputs": [
    {
     "name": "stdout",
     "output_type": "stream",
     "text": [
      "<class 'pandas.core.frame.DataFrame'>\n",
      "RangeIndex: 725 entries, 0 to 724\n",
      "Data columns (total 6 columns):\n",
      " #   Column     Non-Null Count  Dtype  \n",
      "---  ------     --------------  -----  \n",
      " 0   LungCap    725 non-null    float64\n",
      " 1   Age        725 non-null    int64  \n",
      " 2   Height     725 non-null    float64\n",
      " 3   Smoke      725 non-null    object \n",
      " 4   Gender     725 non-null    object \n",
      " 5   Caesarean  725 non-null    object \n",
      "dtypes: float64(2), int64(1), object(3)\n",
      "memory usage: 34.1+ KB\n"
     ]
    }
   ],
   "source": [
    "lcn.info()"
   ]
  },
  {
   "cell_type": "code",
   "execution_count": 7,
   "id": "53c5b885",
   "metadata": {},
   "outputs": [
    {
     "data": {
      "text/plain": [
       "LungCap      0\n",
       "Age          0\n",
       "Height       0\n",
       "Smoke        0\n",
       "Gender       0\n",
       "Caesarean    0\n",
       "dtype: int64"
      ]
     },
     "execution_count": 7,
     "metadata": {},
     "output_type": "execute_result"
    }
   ],
   "source": [
    "lcn.isnull().sum()"
   ]
  },
  {
   "cell_type": "code",
   "execution_count": 8,
   "id": "1dea2473",
   "metadata": {},
   "outputs": [
    {
     "data": {
      "text/plain": [
       "Smoke\n",
       "no     648\n",
       "yes     77\n",
       "Name: count, dtype: int64"
      ]
     },
     "execution_count": 8,
     "metadata": {},
     "output_type": "execute_result"
    }
   ],
   "source": [
    "lcn.Smoke.value_counts()"
   ]
  },
  {
   "cell_type": "code",
   "execution_count": 9,
   "id": "9ecde535",
   "metadata": {},
   "outputs": [],
   "source": [
    "lcn.Smoke = lcn.Smoke.replace({'no':0,'yes':1})"
   ]
  },
  {
   "cell_type": "code",
   "execution_count": 10,
   "id": "3638ade1",
   "metadata": {},
   "outputs": [
    {
     "data": {
      "text/plain": [
       "Smoke\n",
       "0    648\n",
       "1     77\n",
       "Name: count, dtype: int64"
      ]
     },
     "execution_count": 10,
     "metadata": {},
     "output_type": "execute_result"
    }
   ],
   "source": [
    "lcn.Smoke.value_counts()"
   ]
  },
  {
   "cell_type": "code",
   "execution_count": 11,
   "id": "29d292b0",
   "metadata": {},
   "outputs": [],
   "source": [
    "lcn.Gender = lcn.Gender.replace({'female':0,'male':1})"
   ]
  },
  {
   "cell_type": "code",
   "execution_count": 12,
   "id": "41271ae6",
   "metadata": {},
   "outputs": [],
   "source": [
    "lcn.Caesarean = lcn.Caesarean.replace({'no':0,'yes':1})"
   ]
  },
  {
   "cell_type": "code",
   "execution_count": 13,
   "id": "2736d4b2",
   "metadata": {},
   "outputs": [
    {
     "name": "stdout",
     "output_type": "stream",
     "text": [
      "<class 'pandas.core.frame.DataFrame'>\n",
      "RangeIndex: 725 entries, 0 to 724\n",
      "Data columns (total 6 columns):\n",
      " #   Column     Non-Null Count  Dtype  \n",
      "---  ------     --------------  -----  \n",
      " 0   LungCap    725 non-null    float64\n",
      " 1   Age        725 non-null    int64  \n",
      " 2   Height     725 non-null    float64\n",
      " 3   Smoke      725 non-null    int64  \n",
      " 4   Gender     725 non-null    int64  \n",
      " 5   Caesarean  725 non-null    int64  \n",
      "dtypes: float64(2), int64(4)\n",
      "memory usage: 34.1 KB\n"
     ]
    }
   ],
   "source": [
    "lcn.info()"
   ]
  },
  {
   "cell_type": "code",
   "execution_count": 14,
   "id": "655d3b30",
   "metadata": {},
   "outputs": [],
   "source": [
    "# Sampling"
   ]
  },
  {
   "cell_type": "code",
   "execution_count": 15,
   "id": "6bfb0148",
   "metadata": {},
   "outputs": [],
   "source": [
    "from sklearn.model_selection import train_test_split"
   ]
  },
  {
   "cell_type": "code",
   "execution_count": 210,
   "id": "5c6ee680",
   "metadata": {},
   "outputs": [],
   "source": [
    "lcn = df1"
   ]
  },
  {
   "cell_type": "code",
   "execution_count": 211,
   "id": "5c087745",
   "metadata": {},
   "outputs": [],
   "source": [
    "lcn_train, lcn_test = train_test_split(lcn, test_size = 0.2)"
   ]
  },
  {
   "cell_type": "code",
   "execution_count": 212,
   "id": "a60ebc0f",
   "metadata": {},
   "outputs": [
    {
     "data": {
      "text/plain": [
       "(509, 6)"
      ]
     },
     "execution_count": 212,
     "metadata": {},
     "output_type": "execute_result"
    }
   ],
   "source": [
    "lcn_train.shape"
   ]
  },
  {
   "cell_type": "code",
   "execution_count": 213,
   "id": "e9df808a",
   "metadata": {},
   "outputs": [
    {
     "data": {
      "text/plain": [
       "580.0"
      ]
     },
     "execution_count": 213,
     "metadata": {},
     "output_type": "execute_result"
    }
   ],
   "source": [
    "725 * 80 / 100"
   ]
  },
  {
   "cell_type": "code",
   "execution_count": 214,
   "id": "8a6a4c09",
   "metadata": {},
   "outputs": [
    {
     "data": {
      "text/plain": [
       "(128, 6)"
      ]
     },
     "execution_count": 214,
     "metadata": {},
     "output_type": "execute_result"
    }
   ],
   "source": [
    "lcn_test.shape"
   ]
  },
  {
   "cell_type": "code",
   "execution_count": 215,
   "id": "0585bf20",
   "metadata": {},
   "outputs": [
    {
     "data": {
      "text/plain": [
       "145.0"
      ]
     },
     "execution_count": 215,
     "metadata": {},
     "output_type": "execute_result"
    }
   ],
   "source": [
    "725 * 20 / 100"
   ]
  },
  {
   "cell_type": "code",
   "execution_count": 216,
   "id": "3b98addc",
   "metadata": {},
   "outputs": [],
   "source": [
    "lcn_train_y = lcn_train.iloc[:,0]\n",
    "lcn_test_y = lcn_test.iloc[:,0]"
   ]
  },
  {
   "cell_type": "code",
   "execution_count": 217,
   "id": "c87e29a6",
   "metadata": {},
   "outputs": [],
   "source": [
    "lcn_train_x = lcn_train.iloc[:,1::]\n",
    "lcn_test_x = lcn_test.iloc[:,1::]"
   ]
  },
  {
   "cell_type": "code",
   "execution_count": 218,
   "id": "956a93fc",
   "metadata": {},
   "outputs": [
    {
     "data": {
      "text/html": [
       "<div>\n",
       "<style scoped>\n",
       "    .dataframe tbody tr th:only-of-type {\n",
       "        vertical-align: middle;\n",
       "    }\n",
       "\n",
       "    .dataframe tbody tr th {\n",
       "        vertical-align: top;\n",
       "    }\n",
       "\n",
       "    .dataframe thead th {\n",
       "        text-align: right;\n",
       "    }\n",
       "</style>\n",
       "<table border=\"1\" class=\"dataframe\">\n",
       "  <thead>\n",
       "    <tr style=\"text-align: right;\">\n",
       "      <th></th>\n",
       "      <th>Age</th>\n",
       "      <th>Height</th>\n",
       "      <th>Smoke</th>\n",
       "      <th>Gender</th>\n",
       "      <th>Caesarean</th>\n",
       "    </tr>\n",
       "  </thead>\n",
       "  <tbody>\n",
       "    <tr>\n",
       "      <th>512</th>\n",
       "      <td>18</td>\n",
       "      <td>76.3</td>\n",
       "      <td>1</td>\n",
       "      <td>0</td>\n",
       "      <td>0</td>\n",
       "    </tr>\n",
       "    <tr>\n",
       "      <th>480</th>\n",
       "      <td>16</td>\n",
       "      <td>63.4</td>\n",
       "      <td>0</td>\n",
       "      <td>0</td>\n",
       "      <td>1</td>\n",
       "    </tr>\n",
       "    <tr>\n",
       "      <th>682</th>\n",
       "      <td>11</td>\n",
       "      <td>60.0</td>\n",
       "      <td>0</td>\n",
       "      <td>1</td>\n",
       "      <td>1</td>\n",
       "    </tr>\n",
       "    <tr>\n",
       "      <th>247</th>\n",
       "      <td>11</td>\n",
       "      <td>60.7</td>\n",
       "      <td>0</td>\n",
       "      <td>1</td>\n",
       "      <td>1</td>\n",
       "    </tr>\n",
       "    <tr>\n",
       "      <th>119</th>\n",
       "      <td>17</td>\n",
       "      <td>76.9</td>\n",
       "      <td>1</td>\n",
       "      <td>1</td>\n",
       "      <td>0</td>\n",
       "    </tr>\n",
       "  </tbody>\n",
       "</table>\n",
       "</div>"
      ],
      "text/plain": [
       "     Age  Height  Smoke  Gender  Caesarean\n",
       "512   18    76.3      1       0          0\n",
       "480   16    63.4      0       0          1\n",
       "682   11    60.0      0       1          1\n",
       "247   11    60.7      0       1          1\n",
       "119   17    76.9      1       1          0"
      ]
     },
     "execution_count": 218,
     "metadata": {},
     "output_type": "execute_result"
    }
   ],
   "source": [
    "lcn_train_x.head()"
   ]
  },
  {
   "cell_type": "code",
   "execution_count": 219,
   "id": "a1c9fbb6",
   "metadata": {},
   "outputs": [
    {
     "data": {
      "text/plain": [
       "512    11.500\n",
       "480     5.675\n",
       "682     5.825\n",
       "247     7.475\n",
       "119    11.775\n",
       "Name: LungCap, dtype: float64"
      ]
     },
     "execution_count": 219,
     "metadata": {},
     "output_type": "execute_result"
    }
   ],
   "source": [
    "lcn_train_y.head()"
   ]
  },
  {
   "cell_type": "code",
   "execution_count": 220,
   "id": "64cb5fff",
   "metadata": {},
   "outputs": [
    {
     "data": {
      "text/html": [
       "<div>\n",
       "<style scoped>\n",
       "    .dataframe tbody tr th:only-of-type {\n",
       "        vertical-align: middle;\n",
       "    }\n",
       "\n",
       "    .dataframe tbody tr th {\n",
       "        vertical-align: top;\n",
       "    }\n",
       "\n",
       "    .dataframe thead th {\n",
       "        text-align: right;\n",
       "    }\n",
       "</style>\n",
       "<table border=\"1\" class=\"dataframe\">\n",
       "  <thead>\n",
       "    <tr style=\"text-align: right;\">\n",
       "      <th></th>\n",
       "      <th>Age</th>\n",
       "      <th>Height</th>\n",
       "      <th>Smoke</th>\n",
       "      <th>Gender</th>\n",
       "      <th>Caesarean</th>\n",
       "    </tr>\n",
       "  </thead>\n",
       "  <tbody>\n",
       "    <tr>\n",
       "      <th>534</th>\n",
       "      <td>8</td>\n",
       "      <td>61.3</td>\n",
       "      <td>0</td>\n",
       "      <td>1</td>\n",
       "      <td>1</td>\n",
       "    </tr>\n",
       "    <tr>\n",
       "      <th>502</th>\n",
       "      <td>18</td>\n",
       "      <td>71.5</td>\n",
       "      <td>0</td>\n",
       "      <td>0</td>\n",
       "      <td>0</td>\n",
       "    </tr>\n",
       "    <tr>\n",
       "      <th>431</th>\n",
       "      <td>12</td>\n",
       "      <td>61.8</td>\n",
       "      <td>0</td>\n",
       "      <td>1</td>\n",
       "      <td>0</td>\n",
       "    </tr>\n",
       "    <tr>\n",
       "      <th>32</th>\n",
       "      <td>13</td>\n",
       "      <td>69.3</td>\n",
       "      <td>0</td>\n",
       "      <td>1</td>\n",
       "      <td>0</td>\n",
       "    </tr>\n",
       "    <tr>\n",
       "      <th>312</th>\n",
       "      <td>14</td>\n",
       "      <td>67.5</td>\n",
       "      <td>0</td>\n",
       "      <td>0</td>\n",
       "      <td>0</td>\n",
       "    </tr>\n",
       "  </tbody>\n",
       "</table>\n",
       "</div>"
      ],
      "text/plain": [
       "     Age  Height  Smoke  Gender  Caesarean\n",
       "534    8    61.3      0       1          1\n",
       "502   18    71.5      0       0          0\n",
       "431   12    61.8      0       1          0\n",
       "32    13    69.3      0       1          0\n",
       "312   14    67.5      0       0          0"
      ]
     },
     "execution_count": 220,
     "metadata": {},
     "output_type": "execute_result"
    }
   ],
   "source": [
    "lcn_test_x.head()"
   ]
  },
  {
   "cell_type": "code",
   "execution_count": 221,
   "id": "e6b22a9c",
   "metadata": {},
   "outputs": [
    {
     "data": {
      "text/plain": [
       "534     6.075\n",
       "502    10.600\n",
       "431     5.500\n",
       "32     10.600\n",
       "312     8.775\n",
       "Name: LungCap, dtype: float64"
      ]
     },
     "execution_count": 221,
     "metadata": {},
     "output_type": "execute_result"
    }
   ],
   "source": [
    "lcn_test_y.head()"
   ]
  },
  {
   "cell_type": "code",
   "execution_count": 222,
   "id": "a02eb579",
   "metadata": {},
   "outputs": [],
   "source": [
    "#Build Model"
   ]
  },
  {
   "cell_type": "code",
   "execution_count": 223,
   "id": "c5c6a8ae",
   "metadata": {},
   "outputs": [],
   "source": [
    "from sklearn.linear_model import LinearRegression"
   ]
  },
  {
   "cell_type": "code",
   "execution_count": 224,
   "id": "3a702060",
   "metadata": {},
   "outputs": [],
   "source": [
    "linereg = LinearRegression()"
   ]
  },
  {
   "cell_type": "code",
   "execution_count": 225,
   "id": "2f389130",
   "metadata": {},
   "outputs": [
    {
     "data": {
      "text/html": [
       "<style>#sk-container-id-6 {color: black;}#sk-container-id-6 pre{padding: 0;}#sk-container-id-6 div.sk-toggleable {background-color: white;}#sk-container-id-6 label.sk-toggleable__label {cursor: pointer;display: block;width: 100%;margin-bottom: 0;padding: 0.3em;box-sizing: border-box;text-align: center;}#sk-container-id-6 label.sk-toggleable__label-arrow:before {content: \"▸\";float: left;margin-right: 0.25em;color: #696969;}#sk-container-id-6 label.sk-toggleable__label-arrow:hover:before {color: black;}#sk-container-id-6 div.sk-estimator:hover label.sk-toggleable__label-arrow:before {color: black;}#sk-container-id-6 div.sk-toggleable__content {max-height: 0;max-width: 0;overflow: hidden;text-align: left;background-color: #f0f8ff;}#sk-container-id-6 div.sk-toggleable__content pre {margin: 0.2em;color: black;border-radius: 0.25em;background-color: #f0f8ff;}#sk-container-id-6 input.sk-toggleable__control:checked~div.sk-toggleable__content {max-height: 200px;max-width: 100%;overflow: auto;}#sk-container-id-6 input.sk-toggleable__control:checked~label.sk-toggleable__label-arrow:before {content: \"▾\";}#sk-container-id-6 div.sk-estimator input.sk-toggleable__control:checked~label.sk-toggleable__label {background-color: #d4ebff;}#sk-container-id-6 div.sk-label input.sk-toggleable__control:checked~label.sk-toggleable__label {background-color: #d4ebff;}#sk-container-id-6 input.sk-hidden--visually {border: 0;clip: rect(1px 1px 1px 1px);clip: rect(1px, 1px, 1px, 1px);height: 1px;margin: -1px;overflow: hidden;padding: 0;position: absolute;width: 1px;}#sk-container-id-6 div.sk-estimator {font-family: monospace;background-color: #f0f8ff;border: 1px dotted black;border-radius: 0.25em;box-sizing: border-box;margin-bottom: 0.5em;}#sk-container-id-6 div.sk-estimator:hover {background-color: #d4ebff;}#sk-container-id-6 div.sk-parallel-item::after {content: \"\";width: 100%;border-bottom: 1px solid gray;flex-grow: 1;}#sk-container-id-6 div.sk-label:hover label.sk-toggleable__label {background-color: #d4ebff;}#sk-container-id-6 div.sk-serial::before {content: \"\";position: absolute;border-left: 1px solid gray;box-sizing: border-box;top: 0;bottom: 0;left: 50%;z-index: 0;}#sk-container-id-6 div.sk-serial {display: flex;flex-direction: column;align-items: center;background-color: white;padding-right: 0.2em;padding-left: 0.2em;position: relative;}#sk-container-id-6 div.sk-item {position: relative;z-index: 1;}#sk-container-id-6 div.sk-parallel {display: flex;align-items: stretch;justify-content: center;background-color: white;position: relative;}#sk-container-id-6 div.sk-item::before, #sk-container-id-6 div.sk-parallel-item::before {content: \"\";position: absolute;border-left: 1px solid gray;box-sizing: border-box;top: 0;bottom: 0;left: 50%;z-index: -1;}#sk-container-id-6 div.sk-parallel-item {display: flex;flex-direction: column;z-index: 1;position: relative;background-color: white;}#sk-container-id-6 div.sk-parallel-item:first-child::after {align-self: flex-end;width: 50%;}#sk-container-id-6 div.sk-parallel-item:last-child::after {align-self: flex-start;width: 50%;}#sk-container-id-6 div.sk-parallel-item:only-child::after {width: 0;}#sk-container-id-6 div.sk-dashed-wrapped {border: 1px dashed gray;margin: 0 0.4em 0.5em 0.4em;box-sizing: border-box;padding-bottom: 0.4em;background-color: white;}#sk-container-id-6 div.sk-label label {font-family: monospace;font-weight: bold;display: inline-block;line-height: 1.2em;}#sk-container-id-6 div.sk-label-container {text-align: center;}#sk-container-id-6 div.sk-container {/* jupyter's `normalize.less` sets `[hidden] { display: none; }` but bootstrap.min.css set `[hidden] { display: none !important; }` so we also need the `!important` here to be able to override the default hidden behavior on the sphinx rendered scikit-learn.org. See: https://github.com/scikit-learn/scikit-learn/issues/21755 */display: inline-block !important;position: relative;}#sk-container-id-6 div.sk-text-repr-fallback {display: none;}</style><div id=\"sk-container-id-6\" class=\"sk-top-container\"><div class=\"sk-text-repr-fallback\"><pre>LinearRegression()</pre><b>In a Jupyter environment, please rerun this cell to show the HTML representation or trust the notebook. <br />On GitHub, the HTML representation is unable to render, please try loading this page with nbviewer.org.</b></div><div class=\"sk-container\" hidden><div class=\"sk-item\"><div class=\"sk-estimator sk-toggleable\"><input class=\"sk-toggleable__control sk-hidden--visually\" id=\"sk-estimator-id-6\" type=\"checkbox\" checked><label for=\"sk-estimator-id-6\" class=\"sk-toggleable__label sk-toggleable__label-arrow\">LinearRegression</label><div class=\"sk-toggleable__content\"><pre>LinearRegression()</pre></div></div></div></div></div>"
      ],
      "text/plain": [
       "LinearRegression()"
      ]
     },
     "execution_count": 225,
     "metadata": {},
     "output_type": "execute_result"
    }
   ],
   "source": [
    "linereg.fit(lcn_train_x, lcn_train_y)"
   ]
  },
  {
   "cell_type": "code",
   "execution_count": 226,
   "id": "c2d57b27",
   "metadata": {},
   "outputs": [],
   "source": [
    "#Evaluating model"
   ]
  },
  {
   "cell_type": "code",
   "execution_count": 227,
   "id": "8e66a1e7",
   "metadata": {},
   "outputs": [
    {
     "data": {
      "text/plain": [
       "0.7818276070185611"
      ]
     },
     "execution_count": 227,
     "metadata": {},
     "output_type": "execute_result"
    }
   ],
   "source": [
    "Rsquare = linereg.score(lcn_train_x, lcn_train_y)\n",
    "Rsquare"
   ]
  },
  {
   "cell_type": "code",
   "execution_count": 228,
   "id": "a4d76e68",
   "metadata": {},
   "outputs": [],
   "source": [
    "N = lcn_train_x.shape[0]\n",
    "K = lcn_train_x.shape[1]"
   ]
  },
  {
   "cell_type": "code",
   "execution_count": 229,
   "id": "b6279cd5",
   "metadata": {},
   "outputs": [
    {
     "data": {
      "text/plain": [
       "0.7796588953587059"
      ]
     },
     "execution_count": 229,
     "metadata": {},
     "output_type": "execute_result"
    }
   ],
   "source": [
    "adj_Rsquare = 1 - (1-Rsquare)*(N-1)/(N-K-1)\n",
    "adj_Rsquare"
   ]
  },
  {
   "cell_type": "code",
   "execution_count": 230,
   "id": "10925c68",
   "metadata": {},
   "outputs": [
    {
     "data": {
      "text/plain": [
       "array([ 0.13525003,  0.23842791, -0.45717898,  0.35089409, -0.19540596])"
      ]
     },
     "execution_count": 230,
     "metadata": {},
     "output_type": "execute_result"
    }
   ],
   "source": [
    "linereg.coef_"
   ]
  },
  {
   "cell_type": "code",
   "execution_count": 231,
   "id": "b11179c3",
   "metadata": {},
   "outputs": [
    {
     "data": {
      "text/html": [
       "<div>\n",
       "<style scoped>\n",
       "    .dataframe tbody tr th:only-of-type {\n",
       "        vertical-align: middle;\n",
       "    }\n",
       "\n",
       "    .dataframe tbody tr th {\n",
       "        vertical-align: top;\n",
       "    }\n",
       "\n",
       "    .dataframe thead th {\n",
       "        text-align: right;\n",
       "    }\n",
       "</style>\n",
       "<table border=\"1\" class=\"dataframe\">\n",
       "  <thead>\n",
       "    <tr style=\"text-align: right;\">\n",
       "      <th></th>\n",
       "      <th>Age</th>\n",
       "      <th>Height</th>\n",
       "      <th>Smoke</th>\n",
       "      <th>Gender</th>\n",
       "      <th>Caesarean</th>\n",
       "    </tr>\n",
       "  </thead>\n",
       "  <tbody>\n",
       "    <tr>\n",
       "      <th>512</th>\n",
       "      <td>18</td>\n",
       "      <td>76.3</td>\n",
       "      <td>1</td>\n",
       "      <td>0</td>\n",
       "      <td>0</td>\n",
       "    </tr>\n",
       "    <tr>\n",
       "      <th>480</th>\n",
       "      <td>16</td>\n",
       "      <td>63.4</td>\n",
       "      <td>0</td>\n",
       "      <td>0</td>\n",
       "      <td>1</td>\n",
       "    </tr>\n",
       "    <tr>\n",
       "      <th>682</th>\n",
       "      <td>11</td>\n",
       "      <td>60.0</td>\n",
       "      <td>0</td>\n",
       "      <td>1</td>\n",
       "      <td>1</td>\n",
       "    </tr>\n",
       "    <tr>\n",
       "      <th>247</th>\n",
       "      <td>11</td>\n",
       "      <td>60.7</td>\n",
       "      <td>0</td>\n",
       "      <td>1</td>\n",
       "      <td>1</td>\n",
       "    </tr>\n",
       "    <tr>\n",
       "      <th>119</th>\n",
       "      <td>17</td>\n",
       "      <td>76.9</td>\n",
       "      <td>1</td>\n",
       "      <td>1</td>\n",
       "      <td>0</td>\n",
       "    </tr>\n",
       "    <tr>\n",
       "      <th>...</th>\n",
       "      <td>...</td>\n",
       "      <td>...</td>\n",
       "      <td>...</td>\n",
       "      <td>...</td>\n",
       "      <td>...</td>\n",
       "    </tr>\n",
       "    <tr>\n",
       "      <th>297</th>\n",
       "      <td>13</td>\n",
       "      <td>66.6</td>\n",
       "      <td>0</td>\n",
       "      <td>0</td>\n",
       "      <td>1</td>\n",
       "    </tr>\n",
       "    <tr>\n",
       "      <th>381</th>\n",
       "      <td>9</td>\n",
       "      <td>59.9</td>\n",
       "      <td>0</td>\n",
       "      <td>0</td>\n",
       "      <td>0</td>\n",
       "    </tr>\n",
       "    <tr>\n",
       "      <th>170</th>\n",
       "      <td>15</td>\n",
       "      <td>68.9</td>\n",
       "      <td>0</td>\n",
       "      <td>1</td>\n",
       "      <td>0</td>\n",
       "    </tr>\n",
       "    <tr>\n",
       "      <th>183</th>\n",
       "      <td>16</td>\n",
       "      <td>75.4</td>\n",
       "      <td>0</td>\n",
       "      <td>1</td>\n",
       "      <td>0</td>\n",
       "    </tr>\n",
       "    <tr>\n",
       "      <th>602</th>\n",
       "      <td>15</td>\n",
       "      <td>73.1</td>\n",
       "      <td>0</td>\n",
       "      <td>0</td>\n",
       "      <td>0</td>\n",
       "    </tr>\n",
       "  </tbody>\n",
       "</table>\n",
       "<p>509 rows × 5 columns</p>\n",
       "</div>"
      ],
      "text/plain": [
       "     Age  Height  Smoke  Gender  Caesarean\n",
       "512   18    76.3      1       0          0\n",
       "480   16    63.4      0       0          1\n",
       "682   11    60.0      0       1          1\n",
       "247   11    60.7      0       1          1\n",
       "119   17    76.9      1       1          0\n",
       "..   ...     ...    ...     ...        ...\n",
       "297   13    66.6      0       0          1\n",
       "381    9    59.9      0       0          0\n",
       "170   15    68.9      0       1          0\n",
       "183   16    75.4      0       1          0\n",
       "602   15    73.1      0       0          0\n",
       "\n",
       "[509 rows x 5 columns]"
      ]
     },
     "execution_count": 231,
     "metadata": {},
     "output_type": "execute_result"
    }
   ],
   "source": [
    "lcn_train_x"
   ]
  },
  {
   "cell_type": "code",
   "execution_count": 232,
   "id": "4a30faa9",
   "metadata": {},
   "outputs": [
    {
     "data": {
      "text/plain": [
       "-9.303984562431653"
      ]
     },
     "execution_count": 232,
     "metadata": {},
     "output_type": "execute_result"
    }
   ],
   "source": [
    "linereg.intercept_"
   ]
  },
  {
   "cell_type": "code",
   "execution_count": 233,
   "id": "af66b0d6",
   "metadata": {},
   "outputs": [],
   "source": [
    "pred_train = linereg.predict(lcn_train_x)"
   ]
  },
  {
   "cell_type": "code",
   "execution_count": 234,
   "id": "253b11a7",
   "metadata": {},
   "outputs": [],
   "source": [
    "pred_test = linereg.predict(lcn_test_x)"
   ]
  },
  {
   "cell_type": "code",
   "execution_count": 235,
   "id": "a48baa93",
   "metadata": {},
   "outputs": [
    {
     "data": {
      "text/plain": [
       "array([10.86538618,  7.78093916,  6.64492822,  6.81182775, 11.22408698,\n",
       "        7.21715519,  5.28970748,  5.59122076,  4.94029499, 10.68661653,\n",
       "       12.46027134,  8.45383722,  7.21609625,  8.83782866,  8.84249229,\n",
       "        9.80549223,  7.15809717,  6.21113331,  6.40187564,  9.04460706,\n",
       "        8.62324354,  7.65035277,  8.03141476,  8.08838865,  4.54952203,\n",
       "        9.57444838,  8.17510779, 10.44500659,  9.39401955,  8.13190827,\n",
       "        9.89305668,  9.08978585, 10.08638081,  4.89935718,  9.55459397,\n",
       "        6.60865404,  6.41074129,  7.11758201, 10.75878119,  9.2876986 ,\n",
       "        8.07129363,  8.15062871, 10.88516557,  7.74992595,  8.8388876 ,\n",
       "        5.45597073,  9.14934155,  7.37310494, 10.94994617, 10.57626823,\n",
       "        7.10154593,  5.90898375,  4.04059406,  9.0140165 ,  7.83692913,\n",
       "        7.02599021,  5.74989093,  5.30150258,  5.2652284 ,  5.7342775 ,\n",
       "        9.11362864, 10.95817554,  9.48730658,  9.06127943,  6.76816952,\n",
       "        7.14248374,  8.0324737 ,  4.0654958 ,  8.9072729 ,  7.91262346,\n",
       "        7.02284713,  9.29197564,  7.30115391,  9.27166252,  9.94752608,\n",
       "        5.70220535, 10.56065481,  9.13641249,  9.60486136,  4.47124589,\n",
       "        8.10400208,  9.13997822,  6.79158965, 10.53995509,  6.50463085,\n",
       "        8.73108505,  5.48295659,  7.07833943,  6.67343465,  7.18193996,\n",
       "        8.6435206 ,  6.0716423 ,  7.53852287, 10.94108052, 12.47630742,\n",
       "        7.3036607 ,  8.87520074,  8.90621395,  8.47976414,  6.81907319,\n",
       "        7.15746088,  6.68798912,  8.69120618, 11.25990245,  7.45201736,\n",
       "        7.84847915,  8.54097902,  5.32895007,  7.70224037, 10.17408387,\n",
       "        8.48442778, 10.02788405, 10.05529257, 10.83853893, 11.56569276,\n",
       "        8.21074568,  6.83418894, 11.00543846,  5.9733417 ,  7.53491818,\n",
       "        9.00472819,  7.99259483,  6.05204049,  6.34638335,  8.18648023,\n",
       "        6.37909179,  7.20578275,  7.81050454,  5.51252197,  9.72573449,\n",
       "        6.75276973,  4.26739693, 10.40979136,  7.1616629 ,  9.91647681,\n",
       "       10.77523993,  5.99718449,  7.33322607,  4.86770768,  5.07406342,\n",
       "        4.32713021,  8.45655764,  7.09737997,  5.70983448,  8.07599332,\n",
       "        9.79662657,  7.93918667,  4.42356031,  6.95340289,  9.05354773,\n",
       "        8.10336579,  8.81970845,  6.66478262, 10.16564087,  8.4168878 ,\n",
       "        9.14319631,  5.37727193,  9.59090711,  8.32681656,  7.09373922,\n",
       "        4.62927977,  6.36199677, 10.08337634,  9.16131423,  6.17107687,\n",
       "        7.95207968,  8.1630601 ,  8.60678481,  9.57112773,  9.24781973,\n",
       "        9.68105337,  9.34276824,  5.53887154,  5.97210518,  9.73396385,\n",
       "        6.6808187 ,  7.59549676,  7.79340951,  6.98233198,  4.01781022,\n",
       "       10.21021943, 10.28128909, 11.21055769,  7.5229455 , 10.1750042 ,\n",
       "        6.99119763,  8.05631649, 10.27348238,  5.98980043,  6.66520528,\n",
       "        5.72604814,  8.04745084,  6.71183191,  7.95313862,  7.40433178,\n",
       "        8.36563648, 11.2603251 ,  7.18911038,  5.05845   ,  7.41994521,\n",
       "        6.9029969 ,  7.65098906, 10.23406222,  5.99969127,  7.96345212,\n",
       "        7.28854495,  7.19059198,  8.02360805,  7.74063764,  9.86879123,\n",
       "        9.73248225,  7.56278832,  7.38871836, 10.65496703,  9.94854897,\n",
       "        5.3855013 ,  7.27667483, 11.84350186, 10.11795529,  9.91647681,\n",
       "        8.46881436,  9.57423475,  7.54675224,  4.68583101, 10.53638936,\n",
       "        9.78122678,  5.56695531,  6.21894003, 10.44144086,  8.05207551,\n",
       "        8.9057913 ,  9.32821376,  6.52465532,  6.72009734,  9.42252598,\n",
       "        6.37951445,  8.09577271,  8.49329343,  7.03888321, 11.10017334,\n",
       "        8.97774233,  7.91368241,  6.2904684 ,  5.25025127,  8.90621395,\n",
       "        6.51328288,  9.52654916,  6.01216162,  8.18270087,  7.22432561,\n",
       "       10.86238172,  5.62392921, 11.0851962 ,  6.25987784,  9.17901178,\n",
       "       11.96271581,  9.56957111,  7.44679246,  5.98051212,  9.68991902,\n",
       "        7.10935264, 10.22113316, 10.40470506,  5.35342914,  7.57059503,\n",
       "        5.8214193 ,  7.10154593,  9.81329894,  9.40016479,  4.91539326,\n",
       "       10.66549416,  7.23637331,  5.4325506 ,  8.66778605,  5.94886262,\n",
       "        9.74177057,  9.65734919,  7.34103278,  7.12644767,  9.28303497,\n",
       "        7.38257312,  5.87733425,  7.38048899, 11.05248776,  5.97270541,\n",
       "        9.99563432,  8.04070307,  9.83608278,  7.07053272,  8.09097046,\n",
       "        6.84814089,  7.46024673,  8.19873695,  7.67483185,  5.82964867,\n",
       "        5.24919233,  6.69621849,  9.28833489, 10.24967565,  7.2047238 ,\n",
       "        9.62192033,  6.01322057,  8.40615164, 11.32256516, 11.73718091,\n",
       "        9.31998439,  8.57979894,  6.08368999,  7.81788859, 10.6477966 ,\n",
       "        8.16249883, 10.61508816,  7.90503038, 10.26987769,  8.86947816,\n",
       "       10.05109056,  6.43440651,  7.50793231,  7.35978928,  8.1196155 ,\n",
       "        6.74704715,  7.65837311,  7.7333286 ,  8.77160021,  7.06230335,\n",
       "        9.39974213, 11.14785892,  9.38306976,  8.14013764,  6.0153047 ,\n",
       "        7.05025566,  6.95446184,  8.3263939 ,  4.64845893,  5.08585852,\n",
       "        8.07549565,  6.59576104,  7.03358329,  8.88300745,  9.47949987,\n",
       "        8.55235146,  9.96310345,  8.34599571,  8.87520074,  8.01643762,\n",
       "        5.56377328,  7.58620845, 10.79399642, 11.65742317, 11.98341553,\n",
       "        7.1616629 ,  6.68947072, 11.23856644,  8.92945651,  7.81622941,\n",
       "        8.41332206,  8.24239518,  4.71684422,  4.43345115,  8.7637935 ,\n",
       "        9.1457008 ,  9.38264711,  4.78077951,  9.24824239, 10.24141022,\n",
       "        8.73108505,  5.21860177,  7.69867464,  6.7040252 ,  6.43814981,\n",
       "        6.59261796,  6.64959185,  8.98554904,  9.0022214 , 10.96598225,\n",
       "        7.73388987, 10.88558822,  8.08058194,  8.56524446,  6.20374926,\n",
       "        4.47905261,  9.10988534,  7.42817457, 10.64821926,  8.81147908,\n",
       "        8.40085172,  9.9204652 ,  5.10613558,  6.8154685 ,  9.07689285,\n",
       "        7.33997384,  8.88237116,  9.7059551 ,  8.40092673,  8.29008076,\n",
       "       10.05889727,  9.7968402 , 10.22943755, 10.71932498,  8.55743775,\n",
       "        9.00116246,  7.42817457,  8.12678592,  6.12420515,  7.30429698,\n",
       "        8.32215292, 10.96181629,  6.91861032,  7.97274043,  9.74134791,\n",
       "        9.74851833,  5.3207207 ,  8.59583502,  6.48569678,  8.31378494,\n",
       "       10.6124038 ,  6.02144993, 11.22358931,  7.91220081,  9.17692765,\n",
       "        8.16772374,  7.09013453,  6.25101218,  8.41332206,  6.63355578,\n",
       "       11.14319528, 10.48026078,  5.23421519, 10.36210578, 10.5211986 ,\n",
       "        4.86053725,  8.60918674,  8.13501529,  9.86773229,  5.20256569,\n",
       "        6.49049903,  4.93457241,  8.12003815, 11.63714611,  8.1111725 ,\n",
       "        9.7018917 ,  7.60224453,  5.61862928,  7.40327284,  6.07694223,\n",
       "        4.15556704,  9.39129913,  6.57700454, 10.66425534,  9.57381209,\n",
       "       10.47623343,  8.42112878,  9.8479529 ,  6.17948381,  7.75416693,\n",
       "        6.64853291,  6.06807657,  8.2314454 ,  5.78259937, 10.00238209,\n",
       "        7.75458959,  6.1032918 ,  5.48867917,  5.50471525, 10.39269633,\n",
       "        9.70553245, 10.57520929, 10.58764068, 11.06916012,  8.25062455,\n",
       "        8.74712113,  6.83086829,  9.88482731, 11.61796696,  9.16912094,\n",
       "        9.07353614, 10.03505448,  5.52032868,  9.18035477,  6.29152734,\n",
       "        6.3784555 ,  6.55273909,  5.29013014,  8.7916997 ,  3.82643161,\n",
       "        8.44603051,  7.61828061,  4.86770768,  6.66478262,  8.35023669,\n",
       "        6.59201773,  7.90397144, 10.41653912,  7.51573902,  5.9965482 ,\n",
       "        9.49031104,  7.8256953 ,  9.09801522,  5.86536157,  5.46017275,\n",
       "        6.12399152,  9.97871687, 10.62751955,  6.39470521,  8.13815836,\n",
       "        6.19509723,  9.50334266, 11.18837408, 10.15384577])"
      ]
     },
     "execution_count": 235,
     "metadata": {},
     "output_type": "execute_result"
    }
   ],
   "source": [
    "pred_train"
   ]
  },
  {
   "cell_type": "code",
   "execution_count": 236,
   "id": "54159355",
   "metadata": {
    "scrolled": true
   },
   "outputs": [
    {
     "data": {
      "text/plain": [
       "array([ 6.5491344 , 10.17811122,  7.40475444,  9.32821376,  8.68339947,\n",
       "        8.44959624,  8.17489416,  9.2011931 ,  7.9562817 , 10.71558167,\n",
       "        9.02076427, 11.92283694,  9.56289836,  9.66095388,  9.9086701 ,\n",
       "       11.21221687, 10.49545155,  9.69366233,  9.57063005,  5.80538322,\n",
       "        8.55637881,  9.35880432,  8.19093024, 10.56846152,  6.93528268,\n",
       "       11.91082821,  5.01076442,  6.0281977 ,  7.15851982, 10.87061109,\n",
       "        8.09153173,  6.56142717,  6.03600441,  7.95207968,  9.84431215,\n",
       "        8.3179509 , 11.17950842,  9.23220631,  5.53636476,  7.74530127,\n",
       "        9.82046936,  6.37803285, 10.54461873,  8.32109398,  4.03698937,\n",
       "        7.69387239,  6.84333864,  9.01045077, 10.48390153,  7.99259483,\n",
       "        6.77597623,  7.98415184,  6.44998388,  8.19873695,  7.87232194,\n",
       "        9.98320293,  4.38618823,  9.96458505,  5.82247824,  8.6397773 ,\n",
       "       11.14383157, 10.08588313,  8.08838865,  6.61646075,  7.79718887,\n",
       "       10.71932498, 11.3143358 ,  8.07192992, 10.46528365, 10.47309036,\n",
       "        7.80485697,  9.84014619,  8.21749345,  7.53852287,  9.01825748,\n",
       "        7.35600991, 10.11803031,  7.23679596,  7.32393776,  6.31837459,\n",
       "        7.79298686,  9.40274659,  9.97511218,  8.774107  ,  9.6250634 ,\n",
       "        9.52718545,  5.68298723,  7.85670852,  9.74957728,  8.77982958,\n",
       "        7.80227517,  9.63859269,  9.48667029,  8.89123682,  9.07311349,\n",
       "        6.39470521,  8.56524446,  9.5540327 ,  4.86053725,  7.98821524,\n",
       "        7.68938632,  7.8360088 , 11.51793216,  9.6147499 ,  7.57988334,\n",
       "        7.98372918,  8.42999443,  9.39868319,  7.8489018 , 10.40830976,\n",
       "        5.32852741,  7.5913308 ,  4.48113674, 10.46528365,  8.83532187,\n",
       "        8.16814639,  9.78059049, 11.02822231,  7.13676116,  5.63996529,\n",
       "        9.14153484, 10.21290379,  9.14464186, 11.87200829,  9.13008738,\n",
       "        8.06768894,  7.51510274,  7.50835497])"
      ]
     },
     "execution_count": 236,
     "metadata": {},
     "output_type": "execute_result"
    }
   ],
   "source": [
    "pred_test"
   ]
  },
  {
   "cell_type": "code",
   "execution_count": 237,
   "id": "52699ff2",
   "metadata": {},
   "outputs": [
    {
     "data": {
      "text/plain": [
       "512    0.634614\n",
       "480   -2.105939\n",
       "682   -0.819928\n",
       "247    0.663172\n",
       "119    0.550913\n",
       "         ...   \n",
       "297    0.586842\n",
       "381    1.179903\n",
       "170   -0.653343\n",
       "183   -1.263374\n",
       "602   -0.778846\n",
       "Name: LungCap, Length: 509, dtype: float64"
      ]
     },
     "execution_count": 237,
     "metadata": {},
     "output_type": "execute_result"
    }
   ],
   "source": [
    "err_train = lcn_train_y - pred_train\n",
    "err_train"
   ]
  },
  {
   "cell_type": "code",
   "execution_count": 238,
   "id": "a3ce491e",
   "metadata": {},
   "outputs": [
    {
     "data": {
      "text/plain": [
       "534   -0.474134\n",
       "502    0.421889\n",
       "431   -1.904754\n",
       "32     1.271786\n",
       "312    0.091601\n",
       "         ...   \n",
       "39    -0.547008\n",
       "167   -0.780087\n",
       "59    -0.242689\n",
       "456   -0.690103\n",
       "599   -1.233355\n",
       "Name: LungCap, Length: 128, dtype: float64"
      ]
     },
     "execution_count": 238,
     "metadata": {},
     "output_type": "execute_result"
    }
   ],
   "source": [
    "err_test = lcn_test_y - pred_test\n",
    "err_test"
   ]
  },
  {
   "cell_type": "code",
   "execution_count": 239,
   "id": "14e8bcb2",
   "metadata": {},
   "outputs": [
    {
     "data": {
      "text/plain": [
       "0.7723800269493761"
      ]
     },
     "execution_count": 239,
     "metadata": {},
     "output_type": "execute_result"
    }
   ],
   "source": [
    "mse = np.mean(np.square(err_test))\n",
    "mse"
   ]
  },
  {
   "cell_type": "code",
   "execution_count": 240,
   "id": "ab2adead",
   "metadata": {},
   "outputs": [
    {
     "data": {
      "text/plain": [
       "0.8788515386283261"
      ]
     },
     "execution_count": 240,
     "metadata": {},
     "output_type": "execute_result"
    }
   ],
   "source": [
    "rmse = np.sqrt(mse)\n",
    "rmse"
   ]
  },
  {
   "cell_type": "code",
   "execution_count": 241,
   "id": "a773e99e",
   "metadata": {},
   "outputs": [
    {
     "data": {
      "text/plain": [
       "8.988632609387448"
      ]
     },
     "execution_count": 241,
     "metadata": {},
     "output_type": "execute_result"
    }
   ],
   "source": [
    "mape = np.mean(np.abs(err_test*100 / lcn_test_y))\n",
    "mape"
   ]
  },
  {
   "cell_type": "code",
   "execution_count": 242,
   "id": "d5d54f59",
   "metadata": {},
   "outputs": [],
   "source": [
    "import matplotlib.pyplot as plt"
   ]
  },
  {
   "cell_type": "code",
   "execution_count": 243,
   "id": "cea22164",
   "metadata": {},
   "outputs": [
    {
     "data": {
      "text/plain": [
       "[<matplotlib.lines.Line2D at 0x20c5b5492d0>]"
      ]
     },
     "execution_count": 243,
     "metadata": {},
     "output_type": "execute_result"
    },
    {
     "data": {
      "image/png": "[encoded data removed]",
      "text/plain": [
       "<Figure size 640x480 with 1 Axes>"
      ]
     },
     "metadata": {},
     "output_type": "display_data"
    }
   ],
   "source": [
    "plt.plot(err_train,'*')"
   ]
  },
  {
   "cell_type": "code",
   "execution_count": 244,
   "id": "231bbdca",
   "metadata": {},
   "outputs": [
    {
     "data": {
      "text/plain": [
       "(array([ 1.,  0.,  1.,  8.,  7., 14., 26., 32., 45., 56., 61., 68., 64.,\n",
       "        44., 26., 28., 16.,  7.,  4.,  1.]),\n",
       " array([-3.34629363, -3.04026018, -2.73422672, -2.42819327, -2.12215981,\n",
       "        -1.81612636, -1.51009291, -1.20405945, -0.898026  , -0.59199254,\n",
       "        -0.28595909,  0.02007436,  0.32610782,  0.63214127,  0.93817473,\n",
       "         1.24420818,  1.55024163,  1.85627509,  2.16230854,  2.468342  ,\n",
       "         2.77437545]),\n",
       " <BarContainer object of 20 artists>)"
      ]
     },
     "execution_count": 244,
     "metadata": {},
     "output_type": "execute_result"
    },
    {
     "data": {
      "image/png": "[encoded data removed]",
      "text/plain": [
       "<Figure size 640x480 with 1 Axes>"
      ]
     },
     "metadata": {},
     "output_type": "display_data"
    }
   ],
   "source": [
    "plt.hist(err_train, bins=20, edgecolor='k')"
   ]
  },
  {
   "cell_type": "code",
   "execution_count": 245,
   "id": "78bfee60",
   "metadata": {},
   "outputs": [],
   "source": [
    "import seaborn as sns"
   ]
  },
  {
   "cell_type": "code",
   "execution_count": 246,
   "id": "bfc6e1ee",
   "metadata": {},
   "outputs": [
    {
     "data": {
      "text/plain": [
       "<seaborn.axisgrid.JointGrid at 0x20c58dfdc00>"
      ]
     },
     "execution_count": 246,
     "metadata": {},
     "output_type": "execute_result"
    },
    {
     "data": {
      "image/png": "[encoded data removed]",
      "text/plain": [
       "<Figure size 600x600 with 3 Axes>"
      ]
     },
     "metadata": {},
     "output_type": "display_data"
    }
   ],
   "source": [
    "DataFrame = pd.DataFrame()\n",
    "DataFrame['Actual'] = lcn_train_y\n",
    "DataFrame['Predict'] = pred_train\n",
    "sns.jointplot(x='Actual', y='Predict',data=DataFrame, kind='reg')"
   ]
  },
  {
   "cell_type": "code",
   "execution_count": 247,
   "id": "72a9ac0d",
   "metadata": {},
   "outputs": [],
   "source": [
    "def remove_outliers(df,col,k):\n",
    "    mean = df[col].mean()\n",
    "    global df1\n",
    "    sd = df[col].std()\n",
    "    final_list = [x for x in df[col] if (x>mean - k*sd)]\n",
    "    final_list = [x for x in final_list if (x<mean + k*sd)]\n",
    "    df1 = df.loc[df[col].isin(final_list)]; print(df1.shape)\n",
    "    print('Number of outliers removed -- >', df.shape[0] - df1.shape[0])"
   ]
  },
  {
   "cell_type": "code",
   "execution_count": 248,
   "id": "bc0a9450",
   "metadata": {},
   "outputs": [
    {
     "name": "stdout",
     "output_type": "stream",
     "text": [
      "(632, 6)\n",
      "Number of outliers removed -- > 5\n"
     ]
    }
   ],
   "source": [
    "remove_outliers(lcn,'LungCap',2)"
   ]
  },
  {
   "cell_type": "code",
   "execution_count": null,
   "id": "80a58608",
   "metadata": {},
   "outputs": [],
   "source": []
  },
  {
   "cell_type": "code",
   "execution_count": null,
   "id": "d20d0593",
   "metadata": {},
   "outputs": [],
   "source": []
  }
 ],
 "metadata": {
  "kernelspec": {
   "display_name": "Python 3 (ipykernel)",
   "language": "python",
   "name": "python3"
  },
  "language_info": {
   "codemirror_mode": {
    "name": "ipython",
    "version": 3
   },
   "file_extension": ".py",
   "mimetype": "text/x-python",
   "name": "python",
   "nbconvert_exporter": "python",
   "pygments_lexer": "ipython3",
   "version": "3.10.12"
  }
 },
 "nbformat": 4,
 "nbformat_minor": 5
}
